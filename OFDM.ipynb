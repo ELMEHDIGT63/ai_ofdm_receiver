{
  "nbformat": 4,
  "nbformat_minor": 0,
  "metadata": {
    "colab": {
      "provenance": [],
      "authorship_tag": "ABX9TyPn3f1Vd+VLTFYr4SeP07bH",
      "include_colab_link": true
    },
    "kernelspec": {
      "name": "python3",
      "display_name": "Python 3"
    },
    "language_info": {
      "name": "python"
    }
  },
  "cells": [
    {
      "cell_type": "markdown",
      "metadata": {
        "id": "view-in-github",
        "colab_type": "text"
      },
      "source": [
        "<a href=\"https://colab.research.google.com/github/ELMEHDIGT63/ai_ofdm_receiver/blob/main/OFDM.ipynb\" target=\"_parent\"><img src=\"https://colab.research.google.com/assets/colab-badge.svg\" alt=\"Open In Colab\"/></a>"
      ]
    },
    {
      "cell_type": "code",
      "execution_count": 1,
      "metadata": {
        "colab": {
          "base_uri": "https://localhost:8080/"
        },
        "id": "lpRVGB2voiH3",
        "outputId": "1c0cb92e-2fc5-400e-f0b7-3e815dcaf43b"
      },
      "outputs": [
        {
          "output_type": "stream",
          "name": "stdout",
          "text": [
            "Cloning into 'ai_ofdm_receiver'...\n",
            "remote: Enumerating objects: 43, done.\u001b[K\n",
            "remote: Counting objects: 100% (43/43), done.\u001b[K\n",
            "remote: Compressing objects: 100% (37/37), done.\u001b[K\n",
            "remote: Total 43 (delta 14), reused 16 (delta 0), pack-reused 0 (from 0)\u001b[K\n",
            "Receiving objects: 100% (43/43), 11.76 KiB | 11.76 MiB/s, done.\n",
            "Resolving deltas: 100% (14/14), done.\n",
            "/content/ai_ofdm_receiver\n"
          ]
        }
      ],
      "source": [
        "!git clone https://github.com/ELMEHDIGT63/ai_ofdm_receiver.git\n",
        "%cd ai_ofdm_receiver\n"
      ]
    },
    {
      "cell_type": "code",
      "source": [
        "!ls\n"
      ],
      "metadata": {
        "colab": {
          "base_uri": "https://localhost:8080/"
        },
        "id": "jr34KetjosPf",
        "outputId": "0e2e2904-62d4-47b1-8615-ef528db7ce30"
      },
      "execution_count": 2,
      "outputs": [
        {
          "output_type": "stream",
          "name": "stdout",
          "text": [
            "data\t\t      model\tREADME.md\t  train_model.ipynb\n",
            "evaluate_model.ipynb  ofdm_sim\trequirements.txt\n"
          ]
        }
      ]
    },
    {
      "cell_type": "code",
      "source": [
        "!ls ai_ofdm_receiver/\n",
        "!ls ai_ofdm_receiver/model/\n",
        "!ls ai_ofdm_receiver/ofdm_sim/\n"
      ],
      "metadata": {
        "colab": {
          "base_uri": "https://localhost:8080/"
        },
        "id": "FRyrI69WpI2R",
        "outputId": "38e795ff-9465-4100-b4ae-c3049a70914c"
      },
      "execution_count": 4,
      "outputs": [
        {
          "output_type": "stream",
          "name": "stdout",
          "text": [
            "ls: cannot access 'ai_ofdm_receiver/': No such file or directory\n",
            "ls: cannot access 'ai_ofdm_receiver/model/': No such file or directory\n",
            "ls: cannot access 'ai_ofdm_receiver/ofdm_sim/': No such file or directory\n"
          ]
        }
      ]
    },
    {
      "cell_type": "code",
      "source": [
        "%pwd\n"
      ],
      "metadata": {
        "colab": {
          "base_uri": "https://localhost:8080/",
          "height": 35
        },
        "id": "qA8co0cJppcv",
        "outputId": "d470ce75-f3be-4708-f7df-55c02d2dc563"
      },
      "execution_count": 5,
      "outputs": [
        {
          "output_type": "execute_result",
          "data": {
            "text/plain": [
              "'/content/ai_ofdm_receiver'"
            ],
            "application/vnd.google.colaboratory.intrinsic+json": {
              "type": "string"
            }
          },
          "metadata": {},
          "execution_count": 5
        }
      ]
    },
    {
      "cell_type": "code",
      "source": [
        "!ls\n"
      ],
      "metadata": {
        "colab": {
          "base_uri": "https://localhost:8080/"
        },
        "id": "5elgAUpVpvjk",
        "outputId": "9b830fa1-7550-4b74-aa14-2cf56c0cc89d"
      },
      "execution_count": 6,
      "outputs": [
        {
          "output_type": "stream",
          "name": "stdout",
          "text": [
            "data\t\t      model\tREADME.md\t  train_model.ipynb\n",
            "evaluate_model.ipynb  ofdm_sim\trequirements.txt\n"
          ]
        }
      ]
    },
    {
      "cell_type": "code",
      "source": [
        "%cd ai_ofdm_receiver\n"
      ],
      "metadata": {
        "colab": {
          "base_uri": "https://localhost:8080/"
        },
        "id": "Sq9jabzPpy9f",
        "outputId": "a27933e5-01cd-4a43-b30a-0f70121074c1"
      },
      "execution_count": 7,
      "outputs": [
        {
          "output_type": "stream",
          "name": "stdout",
          "text": [
            "[Errno 2] No such file or directory: 'ai_ofdm_receiver'\n",
            "/content/ai_ofdm_receiver\n"
          ]
        }
      ]
    }
  ]
}