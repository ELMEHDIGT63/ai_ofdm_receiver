# Training Notebook Placeholder

Use this to train your Conv2D model on OFDM data.